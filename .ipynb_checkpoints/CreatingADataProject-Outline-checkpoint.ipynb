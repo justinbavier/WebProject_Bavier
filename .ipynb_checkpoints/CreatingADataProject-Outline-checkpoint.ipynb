{
 "cells": [
  {
   "cell_type": "markdown",
   "metadata": {},
   "source": [
    "## Creating a Web Data Project with Jupyter Notebooks\n",
    "******\n",
    "###### 1. Read in json file(s) resulting from your work with requests/selenium and beautifulsoup"
   ]
  },
  {
   "cell_type": "code",
   "execution_count": 2,
   "metadata": {
    "collapsed": false
   },
   "outputs": [
    {
     "ename": "ImportError",
     "evalue": "No module named 'numby'",
     "output_type": "error",
     "traceback": [
      "\u001b[0;31m---------------------------------------------------------------------------\u001b[0m",
      "\u001b[0;31mImportError\u001b[0m                               Traceback (most recent call last)",
      "\u001b[0;32m<ipython-input-2-cd0e99a37a1b>\u001b[0m in \u001b[0;36m<module>\u001b[0;34m()\u001b[0m\n\u001b[1;32m      1\u001b[0m \u001b[1;31m# Import necessary packages\u001b[0m\u001b[1;33m\u001b[0m\u001b[1;33m\u001b[0m\u001b[0m\n\u001b[1;32m      2\u001b[0m \u001b[1;32mimport\u001b[0m \u001b[0mmatplotlib\u001b[0m\u001b[1;33m\u001b[0m\u001b[0m\n\u001b[0;32m----> 3\u001b[0;31m \u001b[1;32mimport\u001b[0m \u001b[0mnumby\u001b[0m \u001b[1;32mas\u001b[0m \u001b[0mnp\u001b[0m\u001b[1;33m\u001b[0m\u001b[0m\n\u001b[0m\u001b[1;32m      4\u001b[0m \u001b[1;32mimport\u001b[0m \u001b[0mmatplotlib\u001b[0m\u001b[1;33m.\u001b[0m\u001b[0mpyplot\u001b[0m \u001b[1;32mas\u001b[0m \u001b[0mplt\u001b[0m\u001b[1;33m\u001b[0m\u001b[0m\n\u001b[1;32m      5\u001b[0m \u001b[1;32mimport\u001b[0m \u001b[0mpandas\u001b[0m \u001b[1;32mas\u001b[0m \u001b[0mp\u001b[0m\u001b[1;33m\u001b[0m\u001b[0m\n",
      "\u001b[0;31mImportError\u001b[0m: No module named 'numby'"
     ]
    }
   ],
   "source": [
    "# Import necessary packages\n",
    "import matplotlib\n",
    "import numpy as np\n",
    "import matplotlib.pyplot as plt\n",
    "import pandas as p\n",
    "\n",
    "# Read in json files and create dataframes\n",
    "filename = '2017-02-23.StackOverFlow.json',\n",
    "data = pd.read_json(filename)"
   ]
  },
  {
   "cell_type": "markdown",
   "metadata": {},
   "source": [
    "###### 2. Clean the data column by column\n",
    "- Ensure that addresses (or other text data) are consistent \n",
    "- Eliminate string characters from numeric values \n",
    "- Exclude redundant data as appropriate"
   ]
  },
  {
   "cell_type": "code",
   "execution_count": 2,
   "metadata": {
    "collapsed": true
   },
   "outputs": [],
   "source": [
    "# Clean up location data to ensure consistency\n"
   ]
  },
  {
   "cell_type": "code",
   "execution_count": 3,
   "metadata": {
    "collapsed": false
   },
   "outputs": [],
   "source": [
    "# Show results of cleaning\n"
   ]
  },
  {
   "cell_type": "code",
   "execution_count": 4,
   "metadata": {
    "collapsed": false
   },
   "outputs": [],
   "source": [
    "# Eliminate string characters from numeric data\n"
   ]
  },
  {
   "cell_type": "code",
   "execution_count": 5,
   "metadata": {
    "collapsed": false
   },
   "outputs": [],
   "source": [
    "# Show results of cleaning"
   ]
  },
  {
   "cell_type": "code",
   "execution_count": 6,
   "metadata": {
    "collapsed": true
   },
   "outputs": [],
   "source": [
    "# Exclude redundant rows\n"
   ]
  },
  {
   "cell_type": "markdown",
   "metadata": {},
   "source": [
    "###### 3. Merge dataframes from separate json files as appropriate\n",
    "- Find the intersection of two (or more) sets\n",
    "- Compare the intersection with the newer set to find 'New Products'  \n",
    "    - When found, add the starting date\n",
    "- Compare the intersection with the older set to find 'Closed Products'  \n",
    "    - When found, add the closing date\n",
    "    - Compare closing date with starting date to find days on market      "
   ]
  },
  {
   "cell_type": "code",
   "execution_count": 7,
   "metadata": {
    "collapsed": true
   },
   "outputs": [],
   "source": [
    "# Create the inner merge of the two dataframes\n"
   ]
  },
  {
   "cell_type": "code",
   "execution_count": 1,
   "metadata": {
    "collapsed": false
   },
   "outputs": [],
   "source": [
    "# Determine the set of 'new products'\n",
    "\n",
    "\n",
    "# Create the associated dataframe\n",
    " \n",
    "    \n",
    "# Add the starting date in the dataframe \n",
    "# in which the product is first shown\n"
   ]
  },
  {
   "cell_type": "code",
   "execution_count": 2,
   "metadata": {
    "collapsed": false
   },
   "outputs": [],
   "source": [
    "# Determine the set of 'closed products'\n",
    "\n",
    "\n",
    "# Create the associated dataframe\n",
    "\n",
    "\n",
    "# Add the closing date in the dataframe \n",
    "# in which the product is last shown\n",
    "\n",
    "\n",
    "# Find days on market by comparing the starting date \n",
    "# with the closing date"
   ]
  },
  {
   "cell_type": "markdown",
   "metadata": {},
   "source": [
    "###### 4. Create visualizations\n",
    "- Histogram of Prices\n",
    "- Histogram of Days on Market\n",
    "- Scatter Diagram of Prices vs Days on Market\n",
    "- Pie Chart of New, Like New, Used"
   ]
  },
  {
   "cell_type": "code",
   "execution_count": 3,
   "metadata": {
    "collapsed": false
   },
   "outputs": [],
   "source": [
    "# Create a histogram of Prices\n",
    "\n",
    "\n",
    "#Temporary Data for Days on Market ... for Scatter Plot Example\n",
    "\n",
    "\n",
    "# Create a histogram of Days on Market\n",
    "\n",
    "\n",
    "# Create a Scatter Diagram of Prices vs Days on Market\n",
    "\n",
    "\n",
    "# Create a Pie Chart of New, Like New, and Used products\n",
    "\n",
    "\n"
   ]
  },
  {
   "cell_type": "markdown",
   "metadata": {},
   "source": [
    "###### 5. Trends from your data  \n",
    "- Search for specific brands and offer counts for each\n",
    "- Search for product types and offer counts for each\n",
    "- For each of the above (and other) give counts for day over day or week over week"
   ]
  },
  {
   "cell_type": "code",
   "execution_count": 4,
   "metadata": {
    "collapsed": false
   },
   "outputs": [],
   "source": [
    "# List the products representing specific brands of your choosing\n",
    "# for each date provided\n",
    "\n",
    "\n",
    "# Create a bar chart of products by brand (for the brands chosen)\n",
    "\n",
    "\n",
    "\n",
    "# List the products of a specific type\n",
    "\n",
    "\n",
    "# Create a bar chart of products by specific type\n",
    "# for each date provided\n",
    "\n"
   ]
  },
  {
   "cell_type": "code",
   "execution_count": 5,
   "metadata": {
    "collapsed": false
   },
   "outputs": [],
   "source": [
    "# Show resulting dataframes of interest"
   ]
  },
  {
   "cell_type": "code",
   "execution_count": null,
   "metadata": {
    "collapsed": true
   },
   "outputs": [],
   "source": []
  }
 ],
 "metadata": {
  "anaconda-cloud": {},
  "kernelspec": {
   "display_name": "Python [default]",
   "language": "python",
   "name": "python3"
  },
  "language_info": {
   "codemirror_mode": {
    "name": "ipython",
    "version": 3
   },
   "file_extension": ".py",
   "mimetype": "text/x-python",
   "name": "python",
   "nbconvert_exporter": "python",
   "pygments_lexer": "ipython3",
   "version": "3.5.2"
  }
 },
 "nbformat": 4,
 "nbformat_minor": 0
}
